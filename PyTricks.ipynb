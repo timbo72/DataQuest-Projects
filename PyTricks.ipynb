{
 "cells": [
  {
   "cell_type": "markdown",
   "metadata": {},
   "source": [
    "These are my notes from Python Tricks by Dan Bader.  \n",
    "I also ordered his book (print copy cause I'm old so, gotta wait for it to be shipped)"
   ]
  },
  {
   "cell_type": "code",
   "execution_count": 1,
   "metadata": {},
   "outputs": [
    {
     "data": {
      "text/plain": [
       "{'a': 1, 'b': 2, 'c': 3, 'd': 4}"
      ]
     },
     "execution_count": 1,
     "metadata": {},
     "output_type": "execute_result"
    }
   ],
   "source": [
    "# How to merge two dictionaries\n",
    "\n",
    "x = {'a': 1, 'b': 2}\n",
    "y = {'c': 3, 'd': 4}\n",
    "\n",
    "z = {**x, **y}\n",
    "z\n",
    "\n",
    "# Python merges dictionary keys in the order listed in the expression, overwriting duplicates from left to right.\n",
    "# Ref: https://www.youtube.com/watch?v=Duexw08KaC8"
   ]
  },
  {
   "cell_type": "code",
   "execution_count": 4,
   "metadata": {},
   "outputs": [
    {
     "name": "stdout",
     "output_type": "stream",
     "text": [
      "Passed\n",
      "Passed\n",
      "Passed\n",
      "Passed\n"
     ]
    }
   ],
   "source": [
    "# Different ways to test multiple flags at once in python\n",
    "\n",
    "x, y, z = 0, 1, 0\n",
    "\n",
    "if x == 1 or y == 1 or z == 1:\n",
    "    print(\"Passed\")\n",
    "    \n",
    "if 1 in (x, y, z):\n",
    "    print(\"Passed\")\n",
    "    \n",
    "# These only test for truthiness\n",
    "if x or y or z:\n",
    "    print(\"Passed\")\n",
    "    \n",
    "if any ((x, y, z)):\n",
    "    print(\"Passed\")"
   ]
  },
  {
   "cell_type": "code",
   "execution_count": 7,
   "metadata": {},
   "outputs": [
    {
     "data": {
      "text/plain": [
       "[('a', 1), ('c', 2), ('b', 3)]"
      ]
     },
     "execution_count": 7,
     "metadata": {},
     "output_type": "execute_result"
    }
   ],
   "source": [
    "# How to sort a Python dict by value\n",
    "# (== get a representation sorted by value)\n",
    "\n",
    "xs = {'a': 4, 'b': 3, 'c': 2, 'a': 1}\n",
    "\n",
    "sorted(xs.items(), key=lambda x: x[1])"
   ]
  },
  {
   "cell_type": "code",
   "execution_count": 3,
   "metadata": {},
   "outputs": [
    {
     "name": "stdout",
     "output_type": "stream",
     "text": [
      "Hi Alice!\n",
      "Hi there!\n"
     ]
    }
   ],
   "source": [
    "# The get() method on dicts\n",
    "# and its \"default\" argument\n",
    "\n",
    "# https://dbader.org/blog/python-dict-get-default-value\n",
    "\n",
    "name_for_userid = {\n",
    "    382:\"Alice\",\n",
    "    590:\"Bob\",\n",
    "    951:\"Dilbert\",\n",
    "}\n",
    "\n",
    "def greeting(userid):\n",
    "    return \"Hi %s!\" % name_for_userid.get(userid, \"there\")\n",
    "\n",
    "print(greeting(382))\n",
    "print(greeting(333))"
   ]
  },
  {
   "cell_type": "code",
   "execution_count": 1,
   "metadata": {},
   "outputs": [
    {
     "name": "stdout",
     "output_type": "stream",
     "text": [
      "red\n",
      "3812.4\n",
      "Car(color='red', mileage=3812.4)\n",
      "nope!\n"
     ]
    }
   ],
   "source": [
    "# Why Python is Great: Namedtuples\n",
    "# Using namedtuple is way shaorter than\n",
    "# defining a class manually:\n",
    "from collections import namedtuple\n",
    "Car = namedtuple('Car', 'color mileage')\n",
    "\n",
    "# Our new \"Car\" class works as expected:\n",
    "my_car = Car('red', 3812.4)\n",
    "print(my_car.color)\n",
    "print(my_car.mileage)\n",
    "\n",
    "# We get a nice string repr for free:\n",
    "print(my_car)\n",
    "\n",
    "# Like tuples, namedtuples are immutable:\n",
    "try:\n",
    "    my_car.color = 'blue'\n",
    "except:\n",
    "    print(\"nope!\")"
   ]
  },
  {
   "cell_type": "code",
   "execution_count": 2,
   "metadata": {},
   "outputs": [
    {
     "name": "stdout",
     "output_type": "stream",
     "text": [
      "The Zen of Python, by Tim Peters\n",
      "\n",
      "Beautiful is better than ugly.\n",
      "Explicit is better than implicit.\n",
      "Simple is better than complex.\n",
      "Complex is better than complicated.\n",
      "Flat is better than nested.\n",
      "Sparse is better than dense.\n",
      "Readability counts.\n",
      "Special cases aren't special enough to break the rules.\n",
      "Although practicality beats purity.\n",
      "Errors should never pass silently.\n",
      "Unless explicitly silenced.\n",
      "In the face of ambiguity, refuse the temptation to guess.\n",
      "There should be one-- and preferably only one --obvious way to do it.\n",
      "Although that way may not be obvious at first unless you're Dutch.\n",
      "Now is better than never.\n",
      "Although never is often better than *right* now.\n",
      "If the implementation is hard to explain, it's a bad idea.\n",
      "If the implementation is easy to explain, it may be a good idea.\n",
      "Namespaces are one honking great idea -- let's do more of those!\n"
     ]
    }
   ],
   "source": [
    "import this"
   ]
  },
  {
   "cell_type": "code",
   "execution_count": 7,
   "metadata": {},
   "outputs": [
    {
     "name": "stdout",
     "output_type": "stream",
     "text": [
      "{'a': 23, 'b': 42, 'c': 12648430}\n",
      "{\n",
      "    \"a\": 23,\n",
      "    \"b\": 42,\n",
      "    \"c\": 12648430\n",
      "}\n",
      "nope!\n"
     ]
    }
   ],
   "source": [
    "# the standard string repr for dicts is hard to read:\n",
    "my_mapping = {'a': 23, 'b': 42, 'c': 0xc0ffee}\n",
    "print(my_mapping)\n",
    "\n",
    "# the json module can do a much better job:\n",
    "import json\n",
    "print(json.dumps(my_mapping, indent=4, sort_keys=True))\n",
    "\n",
    "# note this only works with dicts containing\n",
    "# primitive types (check out the \"pprint\" module):\n",
    "try:\n",
    "    json.dumps({all:'yep'})\n",
    "except:\n",
    "    print(\"nope!\")"
   ]
  },
  {
   "cell_type": "code",
   "execution_count": 8,
   "metadata": {},
   "outputs": [
    {
     "name": "stdout",
     "output_type": "stream",
     "text": [
      "1 0 1\n",
      "1 0 1\n"
     ]
    }
   ],
   "source": [
    "# Why python is so grest:\n",
    "# function argument unpacking\n",
    "\n",
    "def myfunc(x, y, z,):\n",
    "    print(x, y, z,)\n",
    "    \n",
    "tuple_vec = (1, 0, 1)\n",
    "dict_vec = {'x': 1, 'y': 0, 'z': 1}\n",
    "\n",
    "myfunc(*tuple_vec)\n",
    "myfunc(**dict_vec)"
   ]
  },
  {
   "cell_type": "code",
   "execution_count": 5,
   "metadata": {},
   "outputs": [
    {
     "name": "stdout",
     "output_type": "stream",
     "text": [
      "0.2370203919999767\n",
      "2.0257534319825936\n",
      "1.7275056350044906\n"
     ]
    }
   ],
   "source": [
    "# Why Python is great\n",
    "# The \"timeit\" module lets you measure the execution\n",
    "# time of small bits of Python code\n",
    "\n",
    "import timeit\n",
    "print(timeit.timeit('\"-\".join(str(n) for n in range(1000))', number=1000))\n",
    "print(timeit.timeit('\"-\".join([str(n) for n in range(1000)])', number=10000))\n",
    "print(timeit.timeit('\"-\".join(map(str, range(1000)))', number=10000))"
   ]
  }
 ],
 "metadata": {
  "kernelspec": {
   "display_name": "Python 3",
   "language": "python",
   "name": "python3"
  },
  "language_info": {
   "codemirror_mode": {
    "name": "ipython",
    "version": 3
   },
   "file_extension": ".py",
   "mimetype": "text/x-python",
   "name": "python",
   "nbconvert_exporter": "python",
   "pygments_lexer": "ipython3",
   "version": "3.7.2"
  }
 },
 "nbformat": 4,
 "nbformat_minor": 2
}
