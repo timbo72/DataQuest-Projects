{
 "cells": [
  {
   "cell_type": "markdown",
   "metadata": {},
   "source": [
    "Python API Tutorial - An Introduction to Using APIs\n",
    "\n",
    "https://www.dataquest.io/blog/python-api-tutorial/"
   ]
  },
  {
   "cell_type": "code",
   "execution_count": 26,
   "metadata": {},
   "outputs": [],
   "source": [
    "import requests\n",
    "import requests.auth\n",
    "import json\n",
    "import getpass"
   ]
  },
  {
   "cell_type": "markdown",
   "metadata": {},
   "source": [
    "### Get current position of ISS"
   ]
  },
  {
   "cell_type": "code",
   "execution_count": 27,
   "metadata": {},
   "outputs": [
    {
     "data": {
      "text/plain": [
       "200"
      ]
     },
     "execution_count": 27,
     "metadata": {},
     "output_type": "execute_result"
    }
   ],
   "source": [
    "# Make a request to get the current (within 5 seconds) position of the ISS from the open notify API\n",
    "response = requests.get(\"http://api.open-notify.org/iss-now.json\")\n",
    "response.status_code"
   ]
  },
  {
   "cell_type": "code",
   "execution_count": 28,
   "metadata": {},
   "outputs": [
    {
     "data": {
      "text/plain": [
       "b'{\"iss_position\": {\"latitude\": \"34.6997\", \"longitude\": \"-18.9199\"}, \"message\": \"success\", \"timestamp\": 1553737188}'"
      ]
     },
     "execution_count": 28,
     "metadata": {},
     "output_type": "execute_result"
    }
   ],
   "source": [
    "response.content"
   ]
  },
  {
   "cell_type": "code",
   "execution_count": 29,
   "metadata": {},
   "outputs": [
    {
     "data": {
      "text/plain": [
       "{'iss_position': {'latitude': '34.6997', 'longitude': '-18.9199'},\n",
       " 'message': 'success',\n",
       " 'timestamp': 1553737188}"
      ]
     },
     "execution_count": 29,
     "metadata": {},
     "output_type": "execute_result"
    }
   ],
   "source": [
    "response.json()"
   ]
  },
  {
   "cell_type": "markdown",
   "metadata": {},
   "source": [
    "### Get details of next pass"
   ]
  },
  {
   "cell_type": "code",
   "execution_count": 30,
   "metadata": {},
   "outputs": [
    {
     "data": {
      "text/plain": [
       "200"
      ]
     },
     "execution_count": 30,
     "metadata": {},
     "output_type": "execute_result"
    }
   ],
   "source": [
    "# Params to pass to the API.\n",
    "# This is the Lat/Long of Melbourne, Australia\n",
    "parameters = {\"lat\": 37.81, \"lon\": 144.96}\n",
    "\n",
    "# Make a get request with parameters\n",
    "response = requests.get(\"http://api.open-notify.org/iss-pass.json\", params=parameters)\n",
    "response.status_code"
   ]
  },
  {
   "cell_type": "code",
   "execution_count": 33,
   "metadata": {},
   "outputs": [
    {
     "data": {
      "text/plain": [
       "b'{\\n  \"message\": \"success\", \\n  \"request\": {\\n    \"altitude\": 100, \\n    \"datetime\": 1553737199, \\n    \"latitude\": 37.81, \\n    \"longitude\": 144.96, \\n    \"passes\": 5\\n  }, \\n  \"response\": [\\n    {\\n      \"duration\": 503, \\n      \"risetime\": 1553752166\\n    }, \\n    {\\n      \"duration\": 645, \\n      \"risetime\": 1553757862\\n    }, \\n    {\\n      \"duration\": 562, \\n      \"risetime\": 1553763727\\n    }, \\n    {\\n      \"duration\": 476, \\n      \"risetime\": 1553769638\\n    }, \\n    {\\n      \"duration\": 552, \\n      \"risetime\": 1553775470\\n    }\\n  ]\\n}\\n'"
      ]
     },
     "execution_count": 33,
     "metadata": {},
     "output_type": "execute_result"
    }
   ],
   "source": [
    "response.content"
   ]
  },
  {
   "cell_type": "code",
   "execution_count": 34,
   "metadata": {},
   "outputs": [
    {
     "data": {
      "text/plain": [
       "{'Server': 'nginx/1.10.3', 'Date': 'Thu, 28 Mar 2019 01:39:59 GMT', 'Content-Type': 'application/json', 'Content-Length': '520', 'Connection': 'keep-alive', 'Via': '1.1 vegur'}"
      ]
     },
     "execution_count": 34,
     "metadata": {},
     "output_type": "execute_result"
    }
   ],
   "source": [
    "response.headers"
   ]
  },
  {
   "cell_type": "code",
   "execution_count": 35,
   "metadata": {},
   "outputs": [
    {
     "data": {
      "text/plain": [
       "{'message': 'success',\n",
       " 'request': {'altitude': 100,\n",
       "  'datetime': 1553737199,\n",
       "  'latitude': 37.81,\n",
       "  'longitude': 144.96,\n",
       "  'passes': 5},\n",
       " 'response': [{'duration': 503, 'risetime': 1553752166},\n",
       "  {'duration': 645, 'risetime': 1553757862},\n",
       "  {'duration': 562, 'risetime': 1553763727},\n",
       "  {'duration': 476, 'risetime': 1553769638},\n",
       "  {'duration': 552, 'risetime': 1553775470}]}"
      ]
     },
     "execution_count": 35,
     "metadata": {},
     "output_type": "execute_result"
    }
   ],
   "source": [
    "data = response.json()\n",
    "data"
   ]
  },
  {
   "cell_type": "markdown",
   "metadata": {},
   "source": [
    "### Get number of people in space"
   ]
  },
  {
   "cell_type": "code",
   "execution_count": 36,
   "metadata": {},
   "outputs": [
    {
     "data": {
      "text/plain": [
       "200"
      ]
     },
     "execution_count": 36,
     "metadata": {},
     "output_type": "execute_result"
    }
   ],
   "source": [
    "response = requests.get(\"http://api.open-notify.org/astros.json\")\n",
    "response.status_code"
   ]
  },
  {
   "cell_type": "code",
   "execution_count": 37,
   "metadata": {},
   "outputs": [
    {
     "data": {
      "text/plain": [
       "6"
      ]
     },
     "execution_count": 37,
     "metadata": {},
     "output_type": "execute_result"
    }
   ],
   "source": [
    "data = response.json()\n",
    "data[\"number\"]"
   ]
  },
  {
   "cell_type": "markdown",
   "metadata": {},
   "source": [
    "There will be more to come as this topic forms appears in a later part of the DataQuest Data Scientist course."
   ]
  },
  {
   "cell_type": "markdown",
   "metadata": {},
   "source": [
    "### Reddit, what could go wrong"
   ]
  },
  {
   "cell_type": "markdown",
   "metadata": {},
   "source": [
    "In my defence at the end of the DQ article they do tell the reader to have a look at reddit, so..."
   ]
  },
  {
   "cell_type": "code",
   "execution_count": 38,
   "metadata": {},
   "outputs": [
    {
     "data": {
      "text/plain": [
       "200"
      ]
     },
     "execution_count": 38,
     "metadata": {},
     "output_type": "execute_result"
    }
   ],
   "source": [
    "# My initial attempts would return a 429 code, thanks to u/,,xx_th for the quick fix\n",
    "response = requests.get(\"http://reddit.com/api/trending_subreddits.json\", headers = {'User-agent': 'your bot 0.1'})\n",
    "response.status_code"
   ]
  },
  {
   "cell_type": "code",
   "execution_count": 40,
   "metadata": {},
   "outputs": [
    {
     "data": {
      "text/plain": [
       "21"
      ]
     },
     "execution_count": 40,
     "metadata": {},
     "output_type": "execute_result"
    }
   ],
   "source": [
    "# From here out any long response strings will be placed in a variable but not printe\n",
    "# Having huge blocks of json within the notebook as caused issues for me in the past\n",
    "reddit_headers = response.headers\n",
    "# reddit_headers"
   ]
  },
  {
   "cell_type": "code",
   "execution_count": 43,
   "metadata": {},
   "outputs": [],
   "source": [
    "reddit_response = response.json()\n",
    "# reddit_response"
   ]
  },
  {
   "cell_type": "markdown",
   "metadata": {},
   "source": [
    "Further exploration is limited by my lack of knowledge of oauth and modhashes, this is a problem for another day"
   ]
  },
  {
   "cell_type": "markdown",
   "metadata": {},
   "source": [
    "### More Reddit starting with OAuth2\n",
    "\n",
    "I immediatly discovered that Reddit won't let you do much without authentication."
   ]
  },
  {
   "cell_type": "markdown",
   "metadata": {},
   "source": [
    "#### Request a token"
   ]
  },
  {
   "cell_type": "code",
   "execution_count": 44,
   "metadata": {},
   "outputs": [
    {
     "name": "stdout",
     "output_type": "stream",
     "text": [
      "input client secret from https://www.reddit.com/prefs/apps········\n"
     ]
    }
   ],
   "source": [
    "# Client API data. Apps client ID and apps client secret\n",
    "# Because i can't be trusted the secret will need to be input each time.\n",
    "client_secret = getpass.getpass(\"input client secret from https://www.reddit.com/prefs/apps\")\n",
    "client_auth = requests.auth.HTTPBasicAuth('LJqjGWbNCzUpKg', client_secret)"
   ]
  },
  {
   "cell_type": "code",
   "execution_count": 47,
   "metadata": {},
   "outputs": [
    {
     "name": "stdout",
     "output_type": "stream",
     "text": [
      "Password········\n"
     ]
    }
   ],
   "source": [
    "headers = {\"User-Agent\": \"ClientMcClientface by /u/timbo72\"}\n",
    "password = getpass.getpass(\"Password\")\n",
    "post_data = {\"grant_type\": \"password\", \"username\": \"timbo72\", \"password\": password}"
   ]
  },
  {
   "cell_type": "code",
   "execution_count": 61,
   "metadata": {},
   "outputs": [],
   "source": [
    "response = requests.post(\"https://www.reddit.com/api/v1/access_token\", auth=client_auth, data=post_data, headers=headers)\n",
    "token = response.json()['access_token']"
   ]
  },
  {
   "cell_type": "code",
   "execution_count": 62,
   "metadata": {},
   "outputs": [],
   "source": [
    "headers = {\"Authorization\": \"bearer \" + token, \"User-Agent\": \"ClientMcClientface by /u/timbo72\"}\n",
    "response = requests.get(\"https://oauth.reddit.com/api/v1/me\", headers=headers)\n",
    "my_data = response.json()"
   ]
  },
  {
   "cell_type": "code",
   "execution_count": 64,
   "metadata": {},
   "outputs": [],
   "source": [
    "headers = {\"Authorization\": \"bearer \" + token, \"User-Agent\": \"ClientMcClientface by /u/timbo72\"}\n",
    "response = requests.get(\"https://oauth.reddit.com/r/PrequelMemes/random\", headers=headers)\n",
    "prequel_memes = response.json()"
   ]
  },
  {
   "cell_type": "markdown",
   "metadata": {},
   "source": [
    "### Now for something completely different"
   ]
  },
  {
   "cell_type": "markdown",
   "metadata": {},
   "source": [
    "I've been looking at the 'have i been pwned' API.\n",
    "First off there is a great script written by Dr Mike Pound, lets give it a go.\n"
   ]
  },
  {
   "cell_type": "code",
   "execution_count": 69,
   "metadata": {},
   "outputs": [
    {
     "name": "stdout",
     "output_type": "stream",
     "text": [
      "Password········\n"
     ]
    },
    {
     "data": {
      "text/plain": [
       "('7CB9DED83CD7F2704D6435C743ED3124ED56C701', 766)"
      ]
     },
     "execution_count": 69,
     "metadata": {},
     "output_type": "execute_result"
    }
   ],
   "source": [
    "import hashlib\n",
    "import sys\n",
    "\n",
    "try:\n",
    "    import requests\n",
    "except ModuleNotFoundError:\n",
    "    print(\"### requests library not found ###\")\n",
    "    raise\n",
    "\n",
    "    \n",
    "def lookup_pwned_api(pwd):\n",
    "    \"\"\"\n",
    "    Returns hash and number of times password was seen in pwned database.\n",
    "    \n",
    "    Args: pwd: password to check\n",
    "    \n",
    "    Returns: A (sha1, count) tuple of the SHA-1 hashed password and the number of times it was found in the database.\n",
    "    \n",
    "    Raises: RuntimeError: if there was an error trying to fetch the data from the API.\n",
    "            UnicodeError: if there was and error UTF_encoding the password.\n",
    "    \"\"\"\n",
    "    sha1pwd = hashlib.sha1(pwd.encode('utf-8')).hexdigest().upper()\n",
    "    head, tail = sha1pwd[:5], sha1pwd[5:]\n",
    "    url = \"https://api.pwnedpasswords.com/range/\" + head\n",
    "    res = requests.get(url)\n",
    "    if res.status_code != 200:\n",
    "        raise RuntimeError(\"Error fetching '{}': {}\".format(url, res.status_code))\n",
    "    hashes = (line.split(\":\") for line in res.text.splitlines())\n",
    "    count = next((int(count) for t, count in hashes if t == tail), 0)\n",
    "    return sha1pwd, count\n",
    "\n",
    "\n",
    "def main(args):\n",
    "    ec = 0\n",
    "    for pwd in args or sys.stdin:\n",
    "        pwd = pwd.strip()\n",
    "        try:\n",
    "            sha1pwd, count = lookup_pwned_api(pwd)\n",
    "            \n",
    "            if count:\n",
    "                foundmsg = \"{0} was found with {1} occurances (hash: {2})\"\n",
    "                print(foundmsg.format(pwd, count, sha1pwd))\n",
    "                ec = 1\n",
    "            else:\n",
    "                print(\"{} was not found\".format(pwd))\n",
    "        except UnicodeError:\n",
    "            errormsg = sys.exc_info()[1]\n",
    "            print(\"{0} could not be checked: {1}\". format(pwd, errormsg))\n",
    "            ec = 1\n",
    "            continue\n",
    "    return ec\n",
    "\n",
    "import getpass\n",
    "lookup_pwned_api(getpass.getpass(\"Password\"))"
   ]
  },
  {
   "cell_type": "markdown",
   "metadata": {},
   "source": [
    "Lets have a play with V2"
   ]
  },
  {
   "cell_type": "code",
   "execution_count": 68,
   "metadata": {},
   "outputs": [
    {
     "data": {
      "text/plain": [
       "403"
      ]
     },
     "execution_count": 68,
     "metadata": {},
     "output_type": "execute_result"
    }
   ],
   "source": [
    "import requests\n",
    "\n",
    "#pwd = input(\"Input and email to check:\")\n",
    "pwd = \"timbo72@gmail.com\"\n",
    "headers = {\"api-version\":\"2\", \"user-agent\":\"Timbos-api-notebook\"}    \n",
    "url = \"https://haveibeenpwned.com/api/breachedaccount/\" + pwd + \"?truncateResponse=true\"\n",
    "response = requests.get(url, headers = headers)\n",
    "#data = response.json()\n",
    "response.status_code"
   ]
  },
  {
   "cell_type": "code",
   "execution_count": 23,
   "metadata": {},
   "outputs": [
    {
     "data": {
      "text/plain": [
       "['Adobe', 'Disqus', 'Dropbox', 'MyFitnessPal']"
      ]
     },
     "execution_count": 23,
     "metadata": {},
     "output_type": "execute_result"
    }
   ],
   "source": [
    "sites = []\n",
    "for i in data:\n",
    "    sites.append(i[\"Name\"])\n",
    "    \n",
    "sites"
   ]
  },
  {
   "cell_type": "markdown",
   "metadata": {},
   "source": [
    "### What3Words"
   ]
  },
  {
   "cell_type": "markdown",
   "metadata": {},
   "source": [
    "Heard about an interesting idea for geolocation called what3words, they have an API..."
   ]
  },
  {
   "cell_type": "code",
   "execution_count": 3,
   "metadata": {},
   "outputs": [
    {
     "name": "stdout",
     "output_type": "stream",
     "text": [
      "API Key········\n"
     ]
    }
   ],
   "source": [
    "import requests\n",
    "import getpass\n",
    "\n",
    "key = getpass.getpass(\"API Key\")\n",
    "lat = \"-38.619797\"\n",
    "long = \"146.124734\"\n",
    "url = \"https://api.what3words.com/v3/convert-to-3wa?coordinates=\" + lat + \"%2c\" + long + \"&key=\" + key\n",
    "response = requests.get(url)"
   ]
  },
  {
   "cell_type": "code",
   "execution_count": 4,
   "metadata": {},
   "outputs": [
    {
     "name": "stdout",
     "output_type": "stream",
     "text": [
      "called.reef.odds\n"
     ]
    }
   ],
   "source": [
    "if response.status_code != 200:\n",
    "    code = response.json()['error']['code']\n",
    "    message = response.json()['error']['message']\n",
    "    print(code)\n",
    "    print(message)\n",
    "else:\n",
    "    words = response.json()['words']\n",
    "    print(words)"
   ]
  },
  {
   "cell_type": "markdown",
   "metadata": {},
   "source": [
    "ToDo:  \n",
    "\n",
    "Getting sick of having to enter API keys and such manually...  \n",
    "option a: txt file with whatever i need, read in at start of notebook.\n",
    "    problen is i can't keep that file in github...  \n",
    "option b: option a plus encryption...\n",
    "\n",
    "needs:  \n",
    "reddit client secret  \n",
    "reddit client auth  \n",
    "reddit password  \n",
    "W3W API key\n",
    "\n",
    "doesn't need encrytion:   \n",
    "W3W lat/long"
   ]
  },
  {
   "cell_type": "code",
   "execution_count": 23,
   "metadata": {},
   "outputs": [],
   "source": [
    "from cryptography.fernet import Fernet\n",
    "import pickle\n",
    "import getpass\n",
    "\n",
    "W3W_lat, W3W_long = '-38.619797', '146.124734'\n",
    "stuff_in = {'W3W_lat':W3W_lat,'W3W_long':W3W_long}"
   ]
  },
  {
   "cell_type": "code",
   "execution_count": 25,
   "metadata": {},
   "outputs": [
    {
     "name": "stdout",
     "output_type": "stream",
     "text": [
      "········\n"
     ]
    },
    {
     "ename": "TypeError",
     "evalue": "generate_key() takes 1 positional argument but 2 were given",
     "output_type": "error",
     "traceback": [
      "\u001b[0;31m---------------------------------------------------------------------------\u001b[0m",
      "\u001b[0;31mTypeError\u001b[0m                                 Traceback (most recent call last)",
      "\u001b[0;32m<ipython-input-25-13a4e82d9fa2>\u001b[0m in \u001b[0;36m<module>\u001b[0;34m\u001b[0m\n\u001b[1;32m      1\u001b[0m \u001b[0mpsssword\u001b[0m \u001b[0;34m=\u001b[0m \u001b[0mgetpass\u001b[0m\u001b[0;34m.\u001b[0m\u001b[0mgetpass\u001b[0m\u001b[0;34m(\u001b[0m\u001b[0;34m)\u001b[0m\u001b[0;34m\u001b[0m\u001b[0;34m\u001b[0m\u001b[0m\n\u001b[0;32m----> 2\u001b[0;31m \u001b[0mkey\u001b[0m \u001b[0;34m=\u001b[0m \u001b[0mFernet\u001b[0m\u001b[0;34m.\u001b[0m\u001b[0mgenerate_key\u001b[0m\u001b[0;34m(\u001b[0m\u001b[0mpsssword\u001b[0m\u001b[0;34m)\u001b[0m\u001b[0;34m\u001b[0m\u001b[0;34m\u001b[0m\u001b[0m\n\u001b[0m\u001b[1;32m      3\u001b[0m \u001b[0mcipher_suite\u001b[0m \u001b[0;34m=\u001b[0m \u001b[0mFernet\u001b[0m\u001b[0;34m(\u001b[0m\u001b[0mkey\u001b[0m\u001b[0;34m)\u001b[0m\u001b[0;34m\u001b[0m\u001b[0;34m\u001b[0m\u001b[0m\n\u001b[1;32m      4\u001b[0m \u001b[0mcipher_text\u001b[0m \u001b[0;34m=\u001b[0m \u001b[0mcipher_suite\u001b[0m\u001b[0;34m.\u001b[0m\u001b[0mencrypt\u001b[0m\u001b[0;34m(\u001b[0m\u001b[0mW3W_lat\u001b[0m\u001b[0;34m.\u001b[0m\u001b[0mencode\u001b[0m\u001b[0;34m(\u001b[0m\u001b[0;34m)\u001b[0m\u001b[0;34m)\u001b[0m\u001b[0;34m\u001b[0m\u001b[0;34m\u001b[0m\u001b[0m\n\u001b[1;32m      5\u001b[0m \u001b[0mcipher_text\u001b[0m\u001b[0;34m\u001b[0m\u001b[0;34m\u001b[0m\u001b[0m\n",
      "\u001b[0;31mTypeError\u001b[0m: generate_key() takes 1 positional argument but 2 were given"
     ]
    }
   ],
   "source": [
    "key = Fernet.generate_key()\n",
    "cipher_suite = Fernet(key)\n",
    "cipher_text = cipher_suite.encrypt(W3W_lat.encode())\n",
    "cipher_text"
   ]
  },
  {
   "cell_type": "code",
   "execution_count": null,
   "metadata": {},
   "outputs": [],
   "source": []
  },
  {
   "cell_type": "code",
   "execution_count": 21,
   "metadata": {},
   "outputs": [
    {
     "data": {
      "text/plain": [
       "'-38.619797'"
      ]
     },
     "execution_count": 21,
     "metadata": {},
     "output_type": "execute_result"
    }
   ],
   "source": [
    "plain_text = cipher_suite.decrypt(cipher_text)\n",
    "stuff_out = plain_text.decode()\n",
    "stuff_out"
   ]
  },
  {
   "cell_type": "code",
   "execution_count": 32,
   "metadata": {},
   "outputs": [],
   "source": [
    "#def write_to_file(key,value,file):\n",
    "with open('workfile.pickle','wb') as file:\n",
    "    pickle.dump(stuff_in, file)"
   ]
  },
  {
   "cell_type": "code",
   "execution_count": 35,
   "metadata": {},
   "outputs": [],
   "source": [
    "#def read_from_file(file):\n",
    "with open('workfile.pickle','rb') as file:\n",
    "    stuff_out = pickle.load(file)"
   ]
  },
  {
   "cell_type": "code",
   "execution_count": 37,
   "metadata": {},
   "outputs": [
    {
     "data": {
      "text/plain": [
       "'-38.619797'"
      ]
     },
     "execution_count": 37,
     "metadata": {},
     "output_type": "execute_result"
    }
   ],
   "source": [
    "stuff_out['W3W_lat']"
   ]
  },
  {
   "cell_type": "code",
   "execution_count": 34,
   "metadata": {},
   "outputs": [],
   "source": [
    "with open('workfile.txt') as file:\n",
    "    text_from_file = file.read()"
   ]
  },
  {
   "cell_type": "code",
   "execution_count": 25,
   "metadata": {},
   "outputs": [
    {
     "data": {
      "text/plain": [
       "{'W3W_lat': '-38.619797', 'W3W_long': '146.124734', 'W3W_API_KEY': 'balloon'}"
      ]
     },
     "execution_count": 25,
     "metadata": {},
     "output_type": "execute_result"
    }
   ],
   "source": [
    "stuff['W3W_API_KEY'] = 'balloon'\n",
    "stuff"
   ]
  },
  {
   "cell_type": "code",
   "execution_count": null,
   "metadata": {},
   "outputs": [],
   "source": [
    "import json\n",
    "json.dumps(stuff)"
   ]
  },
  {
   "cell_type": "code",
   "execution_count": 18,
   "metadata": {},
   "outputs": [],
   "source": [
    "with open('workfile.txt', 'a') as file:\n",
    "    json.dump(stuff,file)"
   ]
  },
  {
   "cell_type": "code",
   "execution_count": 19,
   "metadata": {},
   "outputs": [
    {
     "name": "stdout",
     "output_type": "stream",
     "text": [
      "{\"W3W_lat\": \"-38.619797\", \"W3W_long\": \"146.124734\"}{\"W3W_lat\": \"-38.619797\", \"W3W_long\": \"146.124734\"}{\"W3W_lat\": \"-38.619797\", \"W3W_long\": \"146.124734\"}\n"
     ]
    }
   ],
   "source": [
    "with open('workfile.txt') as file:\n",
    "    print(file.read())"
   ]
  }
 ],
 "metadata": {
  "kernelspec": {
   "display_name": "Python 3",
   "language": "python",
   "name": "python3"
  },
  "language_info": {
   "codemirror_mode": {
    "name": "ipython",
    "version": 3
   },
   "file_extension": ".py",
   "mimetype": "text/x-python",
   "name": "python",
   "nbconvert_exporter": "python",
   "pygments_lexer": "ipython3",
   "version": "3.7.2"
  }
 },
 "nbformat": 4,
 "nbformat_minor": 2
}
