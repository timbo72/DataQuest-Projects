{
 "cells": [
  {
   "cell_type": "markdown",
   "metadata": {},
   "source": [
    "Python API Tutorial - An Introduction to Using APIs\n",
    "\n",
    "https://www.dataquest.io/blog/python-api-tutorial/"
   ]
  },
  {
   "cell_type": "code",
   "execution_count": 46,
   "metadata": {},
   "outputs": [],
   "source": [
    "# Import ALL the things!\n",
    "import requests\n",
    "import requests.auth\n",
    "import json\n",
    "import getpass"
   ]
  },
  {
   "cell_type": "code",
   "execution_count": 54,
   "metadata": {},
   "outputs": [
    {
     "name": "stdout",
     "output_type": "stream",
     "text": [
      "reddit_uagent\n",
      "reddit_uname\n",
      "reddit_pass\n",
      "reddit_api\n",
      "reddit_api_key\n",
      "W3W_api\n",
      "shodan_api_key\n",
      "ip\n",
      "X-Auth-Key\n",
      "X-Auth-Email\n",
      "zone_identifier\n"
     ]
    }
   ],
   "source": [
    "# Got very sick of pasting in all the secret stuff that I can't leave in the notebook so...\n",
    "# While this isn't the most secure option it is better than typing everything in manually with getpass\n",
    "# ToDo: encryption! input!\n",
    "\n",
    "with open('workfile.json', 'r') as file:\n",
    "        data = json.load(file)\n",
    "\n",
    "key_list = []\n",
    "\n",
    "for key in data.keys():\n",
    "    print(key)\n",
    "    \n",
    "# Just saw an idea at https://github.com/ideoforms/python-twitter-examples\n",
    "# if i put all the secrets into config.py (or something like that)\n",
    "# then i just run import config and reddit_bullshit = config.reddit_bullshit\n",
    "# config.py looks like reddit_bullshit = \"xxxxxxxxxxxxxxx\""
   ]
  },
  {
   "cell_type": "markdown",
   "metadata": {},
   "source": [
    "### Get current position of ISS"
   ]
  },
  {
   "cell_type": "code",
   "execution_count": 27,
   "metadata": {},
   "outputs": [
    {
     "data": {
      "text/plain": [
       "200"
      ]
     },
     "execution_count": 27,
     "metadata": {},
     "output_type": "execute_result"
    }
   ],
   "source": [
    "# Make a request to get the current (within 5 seconds) position of the ISS from the open notify API\n",
    "response = requests.get(\"http://api.open-notify.org/iss-now.json\")\n",
    "response.status_code"
   ]
  },
  {
   "cell_type": "code",
   "execution_count": 28,
   "metadata": {},
   "outputs": [
    {
     "data": {
      "text/plain": [
       "b'{\"iss_position\": {\"latitude\": \"34.6997\", \"longitude\": \"-18.9199\"}, \"message\": \"success\", \"timestamp\": 1553737188}'"
      ]
     },
     "execution_count": 28,
     "metadata": {},
     "output_type": "execute_result"
    }
   ],
   "source": [
    "response.content"
   ]
  },
  {
   "cell_type": "code",
   "execution_count": 29,
   "metadata": {},
   "outputs": [
    {
     "data": {
      "text/plain": [
       "{'iss_position': {'latitude': '34.6997', 'longitude': '-18.9199'},\n",
       " 'message': 'success',\n",
       " 'timestamp': 1553737188}"
      ]
     },
     "execution_count": 29,
     "metadata": {},
     "output_type": "execute_result"
    }
   ],
   "source": [
    "response.json()"
   ]
  },
  {
   "cell_type": "markdown",
   "metadata": {},
   "source": [
    "### Get details of next pass"
   ]
  },
  {
   "cell_type": "code",
   "execution_count": 48,
   "metadata": {},
   "outputs": [
    {
     "data": {
      "text/plain": [
       "200"
      ]
     },
     "execution_count": 48,
     "metadata": {},
     "output_type": "execute_result"
    }
   ],
   "source": [
    "# Params to pass to the API.\n",
    "# This is the Lat/Long of Melbourne, Australia\n",
    "parameters = {\"lat\": -37.81, \"lon\": 144.96}\n",
    "\n",
    "# Make a get request with parameters\n",
    "response = requests.get(\"http://api.open-notify.org/iss-pass.json\", params=parameters)\n",
    "response.status_code"
   ]
  },
  {
   "cell_type": "code",
   "execution_count": 49,
   "metadata": {},
   "outputs": [
    {
     "data": {
      "text/plain": [
       "b'{\\n  \"message\": \"success\", \\n  \"request\": {\\n    \"altitude\": 100, \\n    \"datetime\": 1553939954, \\n    \"latitude\": -37.81, \\n    \"longitude\": 144.96, \\n    \"passes\": 5\\n  }, \\n  \"response\": [\\n    {\\n      \"duration\": 594, \\n      \"risetime\": 1553966299\\n    }, \\n    {\\n      \"duration\": 643, \\n      \"risetime\": 1553972058\\n    }, \\n    {\\n      \"duration\": 540, \\n      \"risetime\": 1553977950\\n    }, \\n    {\\n      \"duration\": 499, \\n      \"risetime\": 1553983845\\n    }, \\n    {\\n      \"duration\": 601, \\n      \"risetime\": 1553989656\\n    }\\n  ]\\n}\\n'"
      ]
     },
     "execution_count": 49,
     "metadata": {},
     "output_type": "execute_result"
    }
   ],
   "source": [
    "response.content"
   ]
  },
  {
   "cell_type": "code",
   "execution_count": 50,
   "metadata": {},
   "outputs": [
    {
     "data": {
      "text/plain": [
       "{'Server': 'nginx/1.10.3', 'Date': 'Sat, 30 Mar 2019 09:59:14 GMT', 'Content-Type': 'application/json', 'Content-Length': '521', 'Connection': 'keep-alive', 'Via': '1.1 vegur'}"
      ]
     },
     "execution_count": 50,
     "metadata": {},
     "output_type": "execute_result"
    }
   ],
   "source": [
    "response.headers"
   ]
  },
  {
   "cell_type": "code",
   "execution_count": 51,
   "metadata": {},
   "outputs": [
    {
     "data": {
      "text/plain": [
       "{'message': 'success',\n",
       " 'request': {'altitude': 100,\n",
       "  'datetime': 1553939954,\n",
       "  'latitude': -37.81,\n",
       "  'longitude': 144.96,\n",
       "  'passes': 5},\n",
       " 'response': [{'duration': 594, 'risetime': 1553966299},\n",
       "  {'duration': 643, 'risetime': 1553972058},\n",
       "  {'duration': 540, 'risetime': 1553977950},\n",
       "  {'duration': 499, 'risetime': 1553983845},\n",
       "  {'duration': 601, 'risetime': 1553989656}]}"
      ]
     },
     "execution_count": 51,
     "metadata": {},
     "output_type": "execute_result"
    }
   ],
   "source": [
    "data = response.json()\n",
    "data"
   ]
  },
  {
   "cell_type": "markdown",
   "metadata": {},
   "source": [
    "### Get number of people in space"
   ]
  },
  {
   "cell_type": "code",
   "execution_count": 36,
   "metadata": {},
   "outputs": [
    {
     "data": {
      "text/plain": [
       "200"
      ]
     },
     "execution_count": 36,
     "metadata": {},
     "output_type": "execute_result"
    }
   ],
   "source": [
    "response = requests.get(\"http://api.open-notify.org/astros.json\")\n",
    "response.status_code"
   ]
  },
  {
   "cell_type": "code",
   "execution_count": 37,
   "metadata": {},
   "outputs": [
    {
     "data": {
      "text/plain": [
       "6"
      ]
     },
     "execution_count": 37,
     "metadata": {},
     "output_type": "execute_result"
    }
   ],
   "source": [
    "data = response.json()\n",
    "data[\"number\"]"
   ]
  },
  {
   "cell_type": "markdown",
   "metadata": {},
   "source": [
    "There will be more to come as this topic forms appears in a later part of the DataQuest Data Scientist course."
   ]
  },
  {
   "cell_type": "markdown",
   "metadata": {},
   "source": [
    "### Reddit, what could go wrong"
   ]
  },
  {
   "cell_type": "markdown",
   "metadata": {},
   "source": [
    "In my defence at the end of the DQ article they do tell the reader to have a look at reddit, so..."
   ]
  },
  {
   "cell_type": "code",
   "execution_count": 38,
   "metadata": {},
   "outputs": [
    {
     "data": {
      "text/plain": [
       "200"
      ]
     },
     "execution_count": 38,
     "metadata": {},
     "output_type": "execute_result"
    }
   ],
   "source": [
    "# My initial attempts would return a 429 code, thanks to u/,,xx_th for the quick fix\n",
    "response = requests.get(\"http://reddit.com/api/trending_subreddits.json\", headers = {'User-agent': 'your bot 0.1'})\n",
    "response.status_code"
   ]
  },
  {
   "cell_type": "code",
   "execution_count": 40,
   "metadata": {},
   "outputs": [
    {
     "data": {
      "text/plain": [
       "21"
      ]
     },
     "execution_count": 40,
     "metadata": {},
     "output_type": "execute_result"
    }
   ],
   "source": [
    "# From here out any long response strings will be placed in a variable but not printe\n",
    "# Having huge blocks of json within the notebook as caused issues for me in the past\n",
    "reddit_headers = response.headers\n",
    "# reddit_headers"
   ]
  },
  {
   "cell_type": "code",
   "execution_count": 43,
   "metadata": {},
   "outputs": [],
   "source": [
    "reddit_response = response.json()\n",
    "# reddit_response"
   ]
  },
  {
   "cell_type": "markdown",
   "metadata": {},
   "source": [
    "Further exploration is limited by my lack of knowledge of oauth and modhashes, this is a problem for another day"
   ]
  },
  {
   "cell_type": "markdown",
   "metadata": {},
   "source": [
    "### More Reddit starting with OAuth2\n",
    "\n",
    "I immediatly discovered that Reddit won't let you do much without authentication."
   ]
  },
  {
   "cell_type": "markdown",
   "metadata": {},
   "source": [
    "#### Request a token"
   ]
  },
  {
   "cell_type": "code",
   "execution_count": 3,
   "metadata": {},
   "outputs": [],
   "source": [
    "# Client API data. Apps client ID and apps client secret\n",
    "client_auth = requests.auth.HTTPBasicAuth(data['reddit_api'], data['reddit_api_key'])"
   ]
  },
  {
   "cell_type": "code",
   "execution_count": 4,
   "metadata": {},
   "outputs": [],
   "source": [
    "headers = {\"User-Agent\": data['reddit_uagent']}\n",
    "post_data = {\"grant_type\": \"password\", \"username\": data['reddit_uname'], \"password\": data['reddit_pass']}"
   ]
  },
  {
   "cell_type": "code",
   "execution_count": 7,
   "metadata": {},
   "outputs": [
    {
     "name": "stdout",
     "output_type": "stream",
     "text": [
      "200\n"
     ]
    }
   ],
   "source": [
    "response = requests.post(\"https://www.reddit.com/api/v1/access_token\", auth=client_auth, data=post_data, headers=headers)\n",
    "token = response.json()['access_token']\n",
    "print(response.status_code)"
   ]
  },
  {
   "cell_type": "code",
   "execution_count": 8,
   "metadata": {},
   "outputs": [
    {
     "name": "stdout",
     "output_type": "stream",
     "text": [
      "200\n"
     ]
    }
   ],
   "source": [
    "headers = {\"Authorization\": \"bearer \" + token, \"User-Agent\": \"ClientMcClientface by /u/timbo72\"}\n",
    "response = requests.get(\"https://oauth.reddit.com/api/v1/me\", headers=headers)\n",
    "print(response.status_code)\n",
    "my_data = response.json()\n",
    "#my_data"
   ]
  },
  {
   "cell_type": "code",
   "execution_count": 9,
   "metadata": {},
   "outputs": [
    {
     "name": "stdout",
     "output_type": "stream",
     "text": [
      "200\n"
     ]
    }
   ],
   "source": [
    "headers = {\"Authorization\": \"bearer \" + token, \"User-Agent\": \"ClientMcClientface by /u/timbo72\"}\n",
    "response = requests.get(\"https://oauth.reddit.com/r/PrequelMemes/random\", headers=headers)\n",
    "print(response.status_code)\n",
    "prequel_memes = response.json()\n",
    "#prequel_memes"
   ]
  },
  {
   "cell_type": "markdown",
   "metadata": {},
   "source": [
    "### Now for something completely different"
   ]
  },
  {
   "cell_type": "markdown",
   "metadata": {},
   "source": [
    "I've been looking at the 'have i been pwned' API.\n",
    "First off there is a great script written by Dr Mike Pound, lets give it a go.\n"
   ]
  },
  {
   "cell_type": "code",
   "execution_count": 11,
   "metadata": {},
   "outputs": [
    {
     "name": "stdout",
     "output_type": "stream",
     "text": [
      "Password········\n"
     ]
    },
    {
     "data": {
      "text/plain": [
       "('7CB9DED83CD7F2704D6435C743ED3124ED56C701', 766)"
      ]
     },
     "execution_count": 11,
     "metadata": {},
     "output_type": "execute_result"
    }
   ],
   "source": [
    "import hashlib\n",
    "import sys\n",
    "\n",
    "try:\n",
    "    import requests\n",
    "except ModuleNotFoundError:\n",
    "    print(\"### requests library not found ###\")\n",
    "    raise\n",
    "\n",
    "    \n",
    "def lookup_pwned_api(pwd):\n",
    "    \"\"\"\n",
    "    Returns hash and number of times password was seen in pwned database.\n",
    "    \n",
    "    Args: pwd: password to check\n",
    "    \n",
    "    Returns: A (sha1, count) tuple of the SHA-1 hashed password and the number of times it was found in the database.\n",
    "    \n",
    "    Raises: RuntimeError: if there was an error trying to fetch the data from the API.\n",
    "            UnicodeError: if there was and error UTF_encoding the password.\n",
    "    \"\"\"\n",
    "    sha1pwd = hashlib.sha1(pwd.encode('utf-8')).hexdigest().upper()\n",
    "    head, tail = sha1pwd[:5], sha1pwd[5:]\n",
    "    url = \"https://api.pwnedpasswords.com/range/\" + head\n",
    "    res = requests.get(url)\n",
    "    if res.status_code != 200:\n",
    "        raise RuntimeError(\"Error fetching '{}': {}\".format(url, res.status_code))\n",
    "    hashes = (line.split(\":\") for line in res.text.splitlines())\n",
    "    count = next((int(count) for t, count in hashes if t == tail), 0)\n",
    "    return sha1pwd, count\n",
    "\n",
    "\n",
    "def main(args):\n",
    "    ec = 0\n",
    "    for pwd in args or sys.stdin:\n",
    "        pwd = pwd.strip()\n",
    "        try:\n",
    "            sha1pwd, count = lookup_pwned_api(pwd)\n",
    "            \n",
    "            if count:\n",
    "                foundmsg = \"{0} was found with {1} occurances (hash: {2})\"\n",
    "                print(foundmsg.format(pwd, count, sha1pwd))\n",
    "                ec = 1\n",
    "            else:\n",
    "                print(\"{} was not found\".format(pwd))\n",
    "        except UnicodeError:\n",
    "            errormsg = sys.exc_info()[1]\n",
    "            print(\"{0} could not be checked: {1}\". format(pwd, errormsg))\n",
    "            ec = 1\n",
    "            continue\n",
    "    return ec\n",
    "\n",
    "import getpass\n",
    "lookup_pwned_api(getpass.getpass(\"Password\"))"
   ]
  },
  {
   "cell_type": "markdown",
   "metadata": {},
   "source": [
    "Lets have a play with V2"
   ]
  },
  {
   "cell_type": "code",
   "execution_count": 10,
   "metadata": {},
   "outputs": [
    {
     "name": "stdout",
     "output_type": "stream",
     "text": [
      "input email/username to check:········\n",
      "status code: 200\n",
      "['OnlinerSpambot']\n"
     ]
    }
   ],
   "source": [
    "# Worth noting that this won't work if the run via a VPN (i.e. from my server)\n",
    "\n",
    "pwd = getpass.getpass(\"input email/username to check:\")\n",
    "headers = {\"api-version\":\"2\", \"user-agent\":\"Timbos-api-project\"}    \n",
    "url = \"https://haveibeenpwned.com/api/breachedaccount/\" + pwd + \"?truncateResponse=true\"\n",
    "response = requests.get(url, headers = headers)\n",
    "print(\"status code:\", response.status_code)\n",
    "if response.status_code == 200:\n",
    "    data = response.json()\n",
    "    sites = []\n",
    "    for i in data:\n",
    "        sites.append(i['Name'])\n",
    "    print(sites)\n",
    "elif response.status_code== 403:\n",
    "    print(\"403! what did you do?\")\n",
    "else:\n",
    "    print(\"Lucky you, nothing found!\")"
   ]
  },
  {
   "cell_type": "markdown",
   "metadata": {},
   "source": [
    "### What3Words"
   ]
  },
  {
   "cell_type": "markdown",
   "metadata": {},
   "source": [
    "Heard about an interesting idea for geolocation called what3words, they have an API..."
   ]
  },
  {
   "cell_type": "code",
   "execution_count": 54,
   "metadata": {},
   "outputs": [
    {
     "name": "stdout",
     "output_type": "stream",
     "text": [
      "Lat:········\n",
      "Long:········\n"
     ]
    },
    {
     "data": {
      "text/plain": [
       "200"
      ]
     },
     "execution_count": 54,
     "metadata": {},
     "output_type": "execute_result"
    }
   ],
   "source": [
    "key = data['W3W_api']\n",
    "lat = getpass.getpass(\"Lat:\")\n",
    "long = getpass.getpass(\"Long:\")\n",
    "#lat = \"-37.810000\"\n",
    "#long = \"144.960000\"\n",
    "url = \"https://api.what3words.com/v3/convert-to-3wa?coordinates=\" + lat + \"%2c\" + long + \"&key=\" + key\n",
    "response = requests.get(url)\n",
    "response.status_code"
   ]
  },
  {
   "cell_type": "code",
   "execution_count": 55,
   "metadata": {},
   "outputs": [
    {
     "name": "stdout",
     "output_type": "stream",
     "text": [
      "wants.bowls.beam\n"
     ]
    }
   ],
   "source": [
    "if response.status_code != 200:\n",
    "    code = response.json()['error']['code']\n",
    "    message = response.json()['error']['message']\n",
    "    print(code)\n",
    "    print(message)\n",
    "else:\n",
    "    words = response.json()['words']\n",
    "    print(words)"
   ]
  },
  {
   "cell_type": "markdown",
   "metadata": {},
   "source": [
    "# Shodan.io  \n",
    "Here we go..."
   ]
  },
  {
   "cell_type": "code",
   "execution_count": 34,
   "metadata": {},
   "outputs": [
    {
     "data": {
      "text/plain": [
       "200"
      ]
     },
     "execution_count": 34,
     "metadata": {},
     "output_type": "execute_result"
    }
   ],
   "source": [
    "api_key = data['shodan_api_key']\n",
    "#ip = getpass.getpass(\"Input an IP to check:\")\n",
    "ip = data['ip']\n",
    "\n",
    "url = \"https://api.shodan.io/shodan/host/{}?key={}\".format(ip, api_key)\n",
    "response = requests.get(url)\n",
    "response.status_code"
   ]
  },
  {
   "cell_type": "code",
   "execution_count": 40,
   "metadata": {},
   "outputs": [
    {
     "data": {
      "text/plain": [
       "dict"
      ]
     },
     "execution_count": 40,
     "metadata": {},
     "output_type": "execute_result"
    }
   ],
   "source": [
    "data = response.json()\n",
    "data"
   ]
  },
  {
   "cell_type": "markdown",
   "metadata": {},
   "source": [
    "# Cloudflare\n",
    "iiiiinteresting"
   ]
  },
  {
   "cell_type": "code",
   "execution_count": 58,
   "metadata": {},
   "outputs": [
    {
     "name": "stdout",
     "output_type": "stream",
     "text": [
      "200\n",
      "Success =  True\n"
     ]
    }
   ],
   "source": [
    "request = \"user\"\n",
    "headers = {\"X-Auth-Key\": data['X-Auth-Key'], \"X-Auth-Email\": data['X-Auth-Email'], \"Content-Type\": \"application/json\"}\n",
    "url = \"https://api.cloudflare.com/client/v4/\" + request\n",
    "response = requests.get(url, headers = headers)\n",
    "print(response.status_code)\n",
    "print(\"Success = \", response.json()['success'])"
   ]
  },
  {
   "cell_type": "code",
   "execution_count": 52,
   "metadata": {},
   "outputs": [
    {
     "data": {
      "text/plain": [
       "{'result': {'id': 'ca1c02058e114adedcf7088e226f5a41',\n",
       "  'email': 'timbo72@gmail.com',\n",
       "  'username': '1cc381bdcea151ea407b2f5fe1ceadc9',\n",
       "  'first_name': None,\n",
       "  'last_name': None,\n",
       "  'telephone': None,\n",
       "  'country': None,\n",
       "  'zipcode': None,\n",
       "  'two_factor_authentication_enabled': True,\n",
       "  'two_factor_authentication_locked': False,\n",
       "  'created_on': '2019-05-16T10:10:48.591597Z',\n",
       "  'modified_on': '2019-05-16T10:20:07.322890Z',\n",
       "  'organizations': [],\n",
       "  'has_pro_zones': False,\n",
       "  'has_business_zones': False,\n",
       "  'has_enterprise_zones': False,\n",
       "  'suspended': False},\n",
       " 'success': True,\n",
       " 'errors': [],\n",
       " 'messages': []}"
      ]
     },
     "execution_count": 52,
     "metadata": {},
     "output_type": "execute_result"
    }
   ],
   "source": [
    "response.json()"
   ]
  },
  {
   "cell_type": "code",
   "execution_count": 86,
   "metadata": {},
   "outputs": [
    {
     "name": "stdout",
     "output_type": "stream",
     "text": [
      "success!\n"
     ]
    }
   ],
   "source": [
    "zone = data['zone_identifier']\n",
    "request = \"zones/\" + zone + \"/dns_records?type=CNAME\"\n",
    "headers = {\"X-Auth-Key\": data['X-Auth-Key'], \"X-Auth-Email\": data['X-Auth-Email'], \"Content-Type\": \"application/json\"}\n",
    "url = \"https://api.cloudflare.com/client/v4/\" + request\n",
    "response = requests.get(url, headers = headers)\n",
    "if response.status_code == 200:\n",
    "    print(\"success!\")"
   ]
  },
  {
   "cell_type": "code",
   "execution_count": 101,
   "metadata": {},
   "outputs": [
    {
     "name": "stdout",
     "output_type": "stream",
     "text": [
      "mail.squirrel.blue\n",
      "radarr.squirrel.blue\n",
      "sonarr.squirrel.blue\n"
     ]
    }
   ],
   "source": [
    "foo = response.json()\n",
    "for f in foo['result']:\n",
    "    print(f['name'])"
   ]
  },
  {
   "cell_type": "code",
   "execution_count": 102,
   "metadata": {},
   "outputs": [
    {
     "name": "stdout",
     "output_type": "stream",
     "text": [
      "success!\n"
     ]
    }
   ],
   "source": [
    "zone = data['zone_identifier']\n",
    "request = \"zones/\" + zone + \"/analytics/dashboard\"\n",
    "headers = {\"X-Auth-Key\": data['X-Auth-Key'], \"X-Auth-Email\": data['X-Auth-Email'], \"Content-Type\": \"application/json\"}\n",
    "url = \"https://api.cloudflare.com/client/v4/\" + request\n",
    "response = requests.get(url, headers = headers)\n",
    "if response.status_code == 200:\n",
    "    print(\"success!\")"
   ]
  },
  {
   "cell_type": "code",
   "execution_count": 103,
   "metadata": {},
   "outputs": [
    {
     "data": {
      "text/plain": [
       "{'success': True,\n",
       " 'query': {'since': '2019-05-22T00:00:00Z',\n",
       "  'until': '2019-05-29T00:00:00Z',\n",
       "  'time_delta': 1440},\n",
       " 'errors': [],\n",
       " 'messages': [],\n",
       " 'result': {'timeseries': [{'since': '2019-05-22T00:00:00Z',\n",
       "    'until': '2019-05-23T00:00:00Z',\n",
       "    'requests': {'all': 5,\n",
       "     'cached': 0,\n",
       "     'uncached': 5,\n",
       "     'ssl': {'encrypted': 0, 'unencrypted': 5},\n",
       "     'http_status': {'200': 5},\n",
       "     'content_type': {'html': 5},\n",
       "     'country': {'BE': 1, 'RU': 1, 'US': 3},\n",
       "     'ip_class': {'noRecord': 5},\n",
       "     'ssl_protocol': {'none': 5}},\n",
       "    'bandwidth': {'all': 20432,\n",
       "     'cached': 0,\n",
       "     'uncached': 20432,\n",
       "     'ssl': {'encrypted': 0, 'unencrypted': 20432},\n",
       "     'ssl_protocol': {'none': 5},\n",
       "     'content_type': {'html': 20432},\n",
       "     'country': {'BE': 3480, 'RU': 6648, 'US': 10304}},\n",
       "    'threats': {'all': 0, 'type': {}, 'country': {}},\n",
       "    'pageviews': {'all': 5, 'search_engine': {}},\n",
       "    'uniques': {'all': 3}},\n",
       "   {'since': '2019-05-23T00:00:00Z',\n",
       "    'until': '2019-05-24T00:00:00Z',\n",
       "    'requests': {'all': 4,\n",
       "     'cached': 0,\n",
       "     'uncached': 4,\n",
       "     'ssl': {'encrypted': 1, 'unencrypted': 3},\n",
       "     'http_status': {'200': 4},\n",
       "     'content_type': {'html': 4},\n",
       "     'country': {'US': 4},\n",
       "     'ip_class': {'noRecord': 4},\n",
       "     'ssl_protocol': {'TLSv1.2': 1, 'none': 3}},\n",
       "    'bandwidth': {'all': 13885,\n",
       "     'cached': 0,\n",
       "     'uncached': 13885,\n",
       "     'ssl': {'encrypted': 3512, 'unencrypted': 10373},\n",
       "     'ssl_protocol': {'TLSv1.2': 1, 'none': 3},\n",
       "     'content_type': {'html': 13885},\n",
       "     'country': {'US': 13885}},\n",
       "    'threats': {'all': 0, 'type': {}, 'country': {}},\n",
       "    'pageviews': {'all': 4, 'search_engine': {}},\n",
       "    'uniques': {'all': 2}},\n",
       "   {'since': '2019-05-24T00:00:00Z',\n",
       "    'until': '2019-05-25T00:00:00Z',\n",
       "    'requests': {'all': 15,\n",
       "     'cached': 1,\n",
       "     'uncached': 14,\n",
       "     'ssl': {'encrypted': 0, 'unencrypted': 15},\n",
       "     'http_status': {'200': 14, '403': 1},\n",
       "     'content_type': {'css': 2, 'html': 11, 'png': 2},\n",
       "     'country': {'FR': 1, 'IN': 1, 'UA': 1, 'US': 12},\n",
       "     'ip_class': {'noRecord': 8, 'searchEngine': 1, 'whitelist': 6},\n",
       "     'ssl_protocol': {'none': 15}},\n",
       "    'bandwidth': {'all': 73644,\n",
       "     'cached': 3579,\n",
       "     'uncached': 70065,\n",
       "     'ssl': {'encrypted': 0, 'unencrypted': 73644},\n",
       "     'ssl_protocol': {'none': 15},\n",
       "     'content_type': {'css': 3408, 'html': 39134, 'png': 31102},\n",
       "     'country': {'FR': 3482, 'IN': 6648, 'UA': 3579, 'US': 59935}},\n",
       "    'threats': {'all': 1,\n",
       "     'type': {'bic.ban.unknown': 1},\n",
       "     'country': {'UA': 1}},\n",
       "    'pageviews': {'all': 10, 'search_engine': {}},\n",
       "    'uniques': {'all': 9}},\n",
       "   {'since': '2019-05-25T00:00:00Z',\n",
       "    'until': '2019-05-26T00:00:00Z',\n",
       "    'requests': {'all': 4,\n",
       "     'cached': 0,\n",
       "     'uncached': 4,\n",
       "     'ssl': {'encrypted': 0, 'unencrypted': 4},\n",
       "     'http_status': {'200': 4},\n",
       "     'content_type': {'html': 4},\n",
       "     'country': {'US': 4},\n",
       "     'ip_class': {'noRecord': 4},\n",
       "     'ssl_protocol': {'none': 4}},\n",
       "    'bandwidth': {'all': 13655,\n",
       "     'cached': 0,\n",
       "     'uncached': 13655,\n",
       "     'ssl': {'encrypted': 0, 'unencrypted': 13655},\n",
       "     'ssl_protocol': {'none': 4},\n",
       "     'content_type': {'html': 13655},\n",
       "     'country': {'US': 13655}},\n",
       "    'threats': {'all': 0, 'type': {}, 'country': {}},\n",
       "    'pageviews': {'all': 4, 'search_engine': {}},\n",
       "    'uniques': {'all': 2}},\n",
       "   {'since': '2019-05-26T00:00:00Z',\n",
       "    'until': '2019-05-27T00:00:00Z',\n",
       "    'requests': {'all': 3,\n",
       "     'cached': 0,\n",
       "     'uncached': 3,\n",
       "     'ssl': {'encrypted': 0, 'unencrypted': 3},\n",
       "     'http_status': {'200': 3},\n",
       "     'content_type': {'html': 3},\n",
       "     'country': {'US': 3},\n",
       "     'ip_class': {'noRecord': 3},\n",
       "     'ssl_protocol': {'none': 3}},\n",
       "    'bandwidth': {'all': 10304,\n",
       "     'cached': 0,\n",
       "     'uncached': 10304,\n",
       "     'ssl': {'encrypted': 0, 'unencrypted': 10304},\n",
       "     'ssl_protocol': {'none': 3},\n",
       "     'content_type': {'html': 10304},\n",
       "     'country': {'US': 10304}},\n",
       "    'threats': {'all': 0, 'type': {}, 'country': {}},\n",
       "    'pageviews': {'all': 3, 'search_engine': {}},\n",
       "    'uniques': {'all': 1}},\n",
       "   {'since': '2019-05-27T00:00:00Z',\n",
       "    'until': '2019-05-28T00:00:00Z',\n",
       "    'requests': {'all': 28,\n",
       "     'cached': 9,\n",
       "     'uncached': 19,\n",
       "     'ssl': {'encrypted': 23, 'unencrypted': 5},\n",
       "     'http_status': {'200': 20, '499': 4, '522': 4},\n",
       "     'content_type': {'css': 1, 'empty': 4, 'html': 19, 'other': 3, 'png': 1},\n",
       "     'country': {'AU': 13, 'RU': 1, 'US': 14},\n",
       "     'ip_class': {'noRecord': 28},\n",
       "     'ssl_protocol': {'TLSv1.3': 23, 'none': 5}},\n",
       "    'bandwidth': {'all': 145210,\n",
       "     'cached': 68069,\n",
       "     'uncached': 77141,\n",
       "     'ssl': {'encrypted': 124803, 'unencrypted': 20407},\n",
       "     'ssl_protocol': {'TLSv1.3': 23, 'none': 5},\n",
       "     'content_type': {'css': 5317,\n",
       "      'html': 77141,\n",
       "      'other': 45580,\n",
       "      'png': 17172},\n",
       "     'country': {'AU': 89389, 'RU': 6643, 'US': 49178}},\n",
       "    'threats': {'all': 0, 'type': {}, 'country': {}},\n",
       "    'pageviews': {'all': 15, 'search_engine': {}},\n",
       "    'uniques': {'all': 9}},\n",
       "   {'since': '2019-05-28T00:00:00Z',\n",
       "    'until': '2019-05-29T00:00:00Z',\n",
       "    'requests': {'all': 60,\n",
       "     'cached': 0,\n",
       "     'uncached': 60,\n",
       "     'ssl': {'encrypted': 8, 'unencrypted': 52},\n",
       "     'http_status': {'200': 60},\n",
       "     'content_type': {'html': 60},\n",
       "     'country': {'ID': 44, 'UA': 5, 'US': 11},\n",
       "     'ip_class': {'noRecord': 60},\n",
       "     'ssl_protocol': {'TLSv1.2': 1, 'TLSv1.3': 7, 'none': 52}},\n",
       "    'bandwidth': {'all': 357820,\n",
       "     'cached': 0,\n",
       "     'uncached': 357820,\n",
       "     'ssl': {'encrypted': 28372, 'unencrypted': 329448},\n",
       "     'ssl_protocol': {'TLSv1.2': 1, 'TLSv1.3': 7, 'none': 52},\n",
       "     'content_type': {'html': 357820},\n",
       "     'country': {'ID': 286618, 'UA': 32526, 'US': 38676}},\n",
       "    'threats': {'all': 0, 'type': {}, 'country': {}},\n",
       "    'pageviews': {'all': 60, 'search_engine': {}},\n",
       "    'uniques': {'all': 6}}],\n",
       "  'totals': {'since': '2019-05-22T00:00:00Z',\n",
       "   'until': '2019-05-29T00:00:00Z',\n",
       "   'requests': {'all': 119,\n",
       "    'cached': 10,\n",
       "    'uncached': 109,\n",
       "    'ssl': {'encrypted': 32, 'unencrypted': 87},\n",
       "    'http_status': {'200': 110, '403': 1, '499': 4, '522': 4},\n",
       "    'content_type': {'css': 3, 'empty': 4, 'html': 106, 'other': 3, 'png': 3},\n",
       "    'country': {'AU': 13,\n",
       "     'BE': 1,\n",
       "     'FR': 1,\n",
       "     'ID': 44,\n",
       "     'IN': 1,\n",
       "     'RU': 2,\n",
       "     'UA': 6,\n",
       "     'US': 51},\n",
       "    'ip_class': {'noRecord': 112, 'searchEngine': 1, 'whitelist': 6},\n",
       "    'ssl_protocol': {'TLSv1.2': 2, 'TLSv1.3': 30, 'none': 87}},\n",
       "   'bandwidth': {'all': 634950,\n",
       "    'cached': 71648,\n",
       "    'uncached': 563302,\n",
       "    'ssl': {'encrypted': 156687, 'unencrypted': 478263},\n",
       "    'ssl_protocol': {'TLSv1.2': 2, 'TLSv1.3': 30, 'none': 87},\n",
       "    'content_type': {'css': 8725,\n",
       "     'html': 532371,\n",
       "     'other': 45580,\n",
       "     'png': 48274},\n",
       "    'country': {'AU': 89389,\n",
       "     'BE': 3480,\n",
       "     'FR': 3482,\n",
       "     'ID': 286618,\n",
       "     'IN': 6648,\n",
       "     'RU': 13291,\n",
       "     'UA': 36105,\n",
       "     'US': 195937}},\n",
       "   'threats': {'all': 1, 'type': {'bic.ban.unknown': 1}, 'country': {'UA': 1}},\n",
       "   'pageviews': {'all': 101, 'search_engine': {}},\n",
       "   'uniques': {'all': 29}}}}"
      ]
     },
     "execution_count": 103,
     "metadata": {},
     "output_type": "execute_result"
    }
   ],
   "source": [
    "response.json()"
   ]
  }
 ],
 "metadata": {
  "kernelspec": {
   "display_name": "Python 3",
   "language": "python",
   "name": "python3"
  },
  "language_info": {
   "codemirror_mode": {
    "name": "ipython",
    "version": 3
   },
   "file_extension": ".py",
   "mimetype": "text/x-python",
   "name": "python",
   "nbconvert_exporter": "python",
   "pygments_lexer": "ipython3",
   "version": "3.7.2"
  }
 },
 "nbformat": 4,
 "nbformat_minor": 2
}
