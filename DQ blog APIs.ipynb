{
 "cells": [
  {
   "cell_type": "markdown",
   "metadata": {},
   "source": [
    "Python API Tutorial - An Introduction to Using APIs\n",
    "\n",
    "https://www.dataquest.io/blog/python-api-tutorial/"
   ]
  },
  {
   "cell_type": "code",
   "execution_count": 1,
   "metadata": {},
   "outputs": [],
   "source": [
    "# Import ALL the things!\n",
    "import requests\n",
    "import requests.auth\n",
    "import json\n",
    "import getpass"
   ]
  },
  {
   "cell_type": "code",
   "execution_count": 31,
   "metadata": {},
   "outputs": [
    {
     "name": "stdout",
     "output_type": "stream",
     "text": [
      "reddit_uagent\n",
      "reddit_uname\n",
      "reddit_pass\n",
      "reddit_api\n",
      "reddit_api_key\n",
      "W3W_api\n",
      "shodan_api_key\n",
      "ip\n"
     ]
    }
   ],
   "source": [
    "# Got very sick of pasting in all the secret stuff that I can't leave in the notebook so...\n",
    "# While this isn't the most secure option it is better than typing everything in manually with getpass\n",
    "# ToDo: encryption! input!\n",
    "\n",
    "with open('workfile.json', 'r') as file:\n",
    "        data = json.load(file)\n",
    "\n",
    "key_list = []\n",
    "\n",
    "for key in data.keys():\n",
    "    print(key)\n",
    "    \n",
    "# Just saw an idea at https://github.com/ideoforms/python-twitter-examples\n",
    "# if i put all the secrets into config.py (or something like that)\n",
    "# then i just run import config and reddit_bullshit = config.reddit_bullshit\n",
    "# config.py looks like reddit_bullshit = \"xxxxxxxxxxxxxxx\""
   ]
  },
  {
   "cell_type": "markdown",
   "metadata": {},
   "source": [
    "### Get current position of ISS"
   ]
  },
  {
   "cell_type": "code",
   "execution_count": 27,
   "metadata": {},
   "outputs": [
    {
     "data": {
      "text/plain": [
       "200"
      ]
     },
     "execution_count": 27,
     "metadata": {},
     "output_type": "execute_result"
    }
   ],
   "source": [
    "# Make a request to get the current (within 5 seconds) position of the ISS from the open notify API\n",
    "response = requests.get(\"http://api.open-notify.org/iss-now.json\")\n",
    "response.status_code"
   ]
  },
  {
   "cell_type": "code",
   "execution_count": 28,
   "metadata": {},
   "outputs": [
    {
     "data": {
      "text/plain": [
       "b'{\"iss_position\": {\"latitude\": \"34.6997\", \"longitude\": \"-18.9199\"}, \"message\": \"success\", \"timestamp\": 1553737188}'"
      ]
     },
     "execution_count": 28,
     "metadata": {},
     "output_type": "execute_result"
    }
   ],
   "source": [
    "response.content"
   ]
  },
  {
   "cell_type": "code",
   "execution_count": 29,
   "metadata": {},
   "outputs": [
    {
     "data": {
      "text/plain": [
       "{'iss_position': {'latitude': '34.6997', 'longitude': '-18.9199'},\n",
       " 'message': 'success',\n",
       " 'timestamp': 1553737188}"
      ]
     },
     "execution_count": 29,
     "metadata": {},
     "output_type": "execute_result"
    }
   ],
   "source": [
    "response.json()"
   ]
  },
  {
   "cell_type": "markdown",
   "metadata": {},
   "source": [
    "### Get details of next pass"
   ]
  },
  {
   "cell_type": "code",
   "execution_count": 48,
   "metadata": {},
   "outputs": [
    {
     "data": {
      "text/plain": [
       "200"
      ]
     },
     "execution_count": 48,
     "metadata": {},
     "output_type": "execute_result"
    }
   ],
   "source": [
    "# Params to pass to the API.\n",
    "# This is the Lat/Long of Melbourne, Australia\n",
    "parameters = {\"lat\": -37.81, \"lon\": 144.96}\n",
    "\n",
    "# Make a get request with parameters\n",
    "response = requests.get(\"http://api.open-notify.org/iss-pass.json\", params=parameters)\n",
    "response.status_code"
   ]
  },
  {
   "cell_type": "code",
   "execution_count": 49,
   "metadata": {},
   "outputs": [
    {
     "data": {
      "text/plain": [
       "b'{\\n  \"message\": \"success\", \\n  \"request\": {\\n    \"altitude\": 100, \\n    \"datetime\": 1553939954, \\n    \"latitude\": -37.81, \\n    \"longitude\": 144.96, \\n    \"passes\": 5\\n  }, \\n  \"response\": [\\n    {\\n      \"duration\": 594, \\n      \"risetime\": 1553966299\\n    }, \\n    {\\n      \"duration\": 643, \\n      \"risetime\": 1553972058\\n    }, \\n    {\\n      \"duration\": 540, \\n      \"risetime\": 1553977950\\n    }, \\n    {\\n      \"duration\": 499, \\n      \"risetime\": 1553983845\\n    }, \\n    {\\n      \"duration\": 601, \\n      \"risetime\": 1553989656\\n    }\\n  ]\\n}\\n'"
      ]
     },
     "execution_count": 49,
     "metadata": {},
     "output_type": "execute_result"
    }
   ],
   "source": [
    "response.content"
   ]
  },
  {
   "cell_type": "code",
   "execution_count": 50,
   "metadata": {},
   "outputs": [
    {
     "data": {
      "text/plain": [
       "{'Server': 'nginx/1.10.3', 'Date': 'Sat, 30 Mar 2019 09:59:14 GMT', 'Content-Type': 'application/json', 'Content-Length': '521', 'Connection': 'keep-alive', 'Via': '1.1 vegur'}"
      ]
     },
     "execution_count": 50,
     "metadata": {},
     "output_type": "execute_result"
    }
   ],
   "source": [
    "response.headers"
   ]
  },
  {
   "cell_type": "code",
   "execution_count": 51,
   "metadata": {},
   "outputs": [
    {
     "data": {
      "text/plain": [
       "{'message': 'success',\n",
       " 'request': {'altitude': 100,\n",
       "  'datetime': 1553939954,\n",
       "  'latitude': -37.81,\n",
       "  'longitude': 144.96,\n",
       "  'passes': 5},\n",
       " 'response': [{'duration': 594, 'risetime': 1553966299},\n",
       "  {'duration': 643, 'risetime': 1553972058},\n",
       "  {'duration': 540, 'risetime': 1553977950},\n",
       "  {'duration': 499, 'risetime': 1553983845},\n",
       "  {'duration': 601, 'risetime': 1553989656}]}"
      ]
     },
     "execution_count": 51,
     "metadata": {},
     "output_type": "execute_result"
    }
   ],
   "source": [
    "data = response.json()\n",
    "data"
   ]
  },
  {
   "cell_type": "markdown",
   "metadata": {},
   "source": [
    "### Get number of people in space"
   ]
  },
  {
   "cell_type": "code",
   "execution_count": 36,
   "metadata": {},
   "outputs": [
    {
     "data": {
      "text/plain": [
       "200"
      ]
     },
     "execution_count": 36,
     "metadata": {},
     "output_type": "execute_result"
    }
   ],
   "source": [
    "response = requests.get(\"http://api.open-notify.org/astros.json\")\n",
    "response.status_code"
   ]
  },
  {
   "cell_type": "code",
   "execution_count": 37,
   "metadata": {},
   "outputs": [
    {
     "data": {
      "text/plain": [
       "6"
      ]
     },
     "execution_count": 37,
     "metadata": {},
     "output_type": "execute_result"
    }
   ],
   "source": [
    "data = response.json()\n",
    "data[\"number\"]"
   ]
  },
  {
   "cell_type": "markdown",
   "metadata": {},
   "source": [
    "There will be more to come as this topic forms appears in a later part of the DataQuest Data Scientist course."
   ]
  },
  {
   "cell_type": "markdown",
   "metadata": {},
   "source": [
    "### Reddit, what could go wrong"
   ]
  },
  {
   "cell_type": "markdown",
   "metadata": {},
   "source": [
    "In my defence at the end of the DQ article they do tell the reader to have a look at reddit, so..."
   ]
  },
  {
   "cell_type": "code",
   "execution_count": 38,
   "metadata": {},
   "outputs": [
    {
     "data": {
      "text/plain": [
       "200"
      ]
     },
     "execution_count": 38,
     "metadata": {},
     "output_type": "execute_result"
    }
   ],
   "source": [
    "# My initial attempts would return a 429 code, thanks to u/,,xx_th for the quick fix\n",
    "response = requests.get(\"http://reddit.com/api/trending_subreddits.json\", headers = {'User-agent': 'your bot 0.1'})\n",
    "response.status_code"
   ]
  },
  {
   "cell_type": "code",
   "execution_count": 40,
   "metadata": {},
   "outputs": [
    {
     "data": {
      "text/plain": [
       "21"
      ]
     },
     "execution_count": 40,
     "metadata": {},
     "output_type": "execute_result"
    }
   ],
   "source": [
    "# From here out any long response strings will be placed in a variable but not printe\n",
    "# Having huge blocks of json within the notebook as caused issues for me in the past\n",
    "reddit_headers = response.headers\n",
    "# reddit_headers"
   ]
  },
  {
   "cell_type": "code",
   "execution_count": 43,
   "metadata": {},
   "outputs": [],
   "source": [
    "reddit_response = response.json()\n",
    "# reddit_response"
   ]
  },
  {
   "cell_type": "markdown",
   "metadata": {},
   "source": [
    "Further exploration is limited by my lack of knowledge of oauth and modhashes, this is a problem for another day"
   ]
  },
  {
   "cell_type": "markdown",
   "metadata": {},
   "source": [
    "### More Reddit starting with OAuth2\n",
    "\n",
    "I immediatly discovered that Reddit won't let you do much without authentication."
   ]
  },
  {
   "cell_type": "markdown",
   "metadata": {},
   "source": [
    "#### Request a token"
   ]
  },
  {
   "cell_type": "code",
   "execution_count": 3,
   "metadata": {},
   "outputs": [],
   "source": [
    "# Client API data. Apps client ID and apps client secret\n",
    "client_auth = requests.auth.HTTPBasicAuth(data['reddit_api'], data['reddit_api_key'])"
   ]
  },
  {
   "cell_type": "code",
   "execution_count": 4,
   "metadata": {},
   "outputs": [],
   "source": [
    "headers = {\"User-Agent\": data['reddit_uagent']}\n",
    "post_data = {\"grant_type\": \"password\", \"username\": data['reddit_uname'], \"password\": data['reddit_pass']}"
   ]
  },
  {
   "cell_type": "code",
   "execution_count": 7,
   "metadata": {},
   "outputs": [
    {
     "name": "stdout",
     "output_type": "stream",
     "text": [
      "200\n"
     ]
    }
   ],
   "source": [
    "response = requests.post(\"https://www.reddit.com/api/v1/access_token\", auth=client_auth, data=post_data, headers=headers)\n",
    "token = response.json()['access_token']\n",
    "print(response.status_code)"
   ]
  },
  {
   "cell_type": "code",
   "execution_count": 8,
   "metadata": {},
   "outputs": [
    {
     "name": "stdout",
     "output_type": "stream",
     "text": [
      "200\n"
     ]
    }
   ],
   "source": [
    "headers = {\"Authorization\": \"bearer \" + token, \"User-Agent\": \"ClientMcClientface by /u/timbo72\"}\n",
    "response = requests.get(\"https://oauth.reddit.com/api/v1/me\", headers=headers)\n",
    "print(response.status_code)\n",
    "my_data = response.json()\n",
    "#my_data"
   ]
  },
  {
   "cell_type": "code",
   "execution_count": 9,
   "metadata": {},
   "outputs": [
    {
     "name": "stdout",
     "output_type": "stream",
     "text": [
      "200\n"
     ]
    }
   ],
   "source": [
    "headers = {\"Authorization\": \"bearer \" + token, \"User-Agent\": \"ClientMcClientface by /u/timbo72\"}\n",
    "response = requests.get(\"https://oauth.reddit.com/r/PrequelMemes/random\", headers=headers)\n",
    "print(response.status_code)\n",
    "prequel_memes = response.json()\n",
    "#prequel_memes"
   ]
  },
  {
   "cell_type": "markdown",
   "metadata": {},
   "source": [
    "### Now for something completely different"
   ]
  },
  {
   "cell_type": "markdown",
   "metadata": {},
   "source": [
    "I've been looking at the 'have i been pwned' API.\n",
    "First off there is a great script written by Dr Mike Pound, lets give it a go.\n"
   ]
  },
  {
   "cell_type": "code",
   "execution_count": 11,
   "metadata": {},
   "outputs": [
    {
     "name": "stdout",
     "output_type": "stream",
     "text": [
      "Password········\n"
     ]
    },
    {
     "data": {
      "text/plain": [
       "('7CB9DED83CD7F2704D6435C743ED3124ED56C701', 766)"
      ]
     },
     "execution_count": 11,
     "metadata": {},
     "output_type": "execute_result"
    }
   ],
   "source": [
    "import hashlib\n",
    "import sys\n",
    "\n",
    "try:\n",
    "    import requests\n",
    "except ModuleNotFoundError:\n",
    "    print(\"### requests library not found ###\")\n",
    "    raise\n",
    "\n",
    "    \n",
    "def lookup_pwned_api(pwd):\n",
    "    \"\"\"\n",
    "    Returns hash and number of times password was seen in pwned database.\n",
    "    \n",
    "    Args: pwd: password to check\n",
    "    \n",
    "    Returns: A (sha1, count) tuple of the SHA-1 hashed password and the number of times it was found in the database.\n",
    "    \n",
    "    Raises: RuntimeError: if there was an error trying to fetch the data from the API.\n",
    "            UnicodeError: if there was and error UTF_encoding the password.\n",
    "    \"\"\"\n",
    "    sha1pwd = hashlib.sha1(pwd.encode('utf-8')).hexdigest().upper()\n",
    "    head, tail = sha1pwd[:5], sha1pwd[5:]\n",
    "    url = \"https://api.pwnedpasswords.com/range/\" + head\n",
    "    res = requests.get(url)\n",
    "    if res.status_code != 200:\n",
    "        raise RuntimeError(\"Error fetching '{}': {}\".format(url, res.status_code))\n",
    "    hashes = (line.split(\":\") for line in res.text.splitlines())\n",
    "    count = next((int(count) for t, count in hashes if t == tail), 0)\n",
    "    return sha1pwd, count\n",
    "\n",
    "\n",
    "def main(args):\n",
    "    ec = 0\n",
    "    for pwd in args or sys.stdin:\n",
    "        pwd = pwd.strip()\n",
    "        try:\n",
    "            sha1pwd, count = lookup_pwned_api(pwd)\n",
    "            \n",
    "            if count:\n",
    "                foundmsg = \"{0} was found with {1} occurances (hash: {2})\"\n",
    "                print(foundmsg.format(pwd, count, sha1pwd))\n",
    "                ec = 1\n",
    "            else:\n",
    "                print(\"{} was not found\".format(pwd))\n",
    "        except UnicodeError:\n",
    "            errormsg = sys.exc_info()[1]\n",
    "            print(\"{0} could not be checked: {1}\". format(pwd, errormsg))\n",
    "            ec = 1\n",
    "            continue\n",
    "    return ec\n",
    "\n",
    "import getpass\n",
    "lookup_pwned_api(getpass.getpass(\"Password\"))"
   ]
  },
  {
   "cell_type": "markdown",
   "metadata": {},
   "source": [
    "Lets have a play with V2"
   ]
  },
  {
   "cell_type": "code",
   "execution_count": 10,
   "metadata": {},
   "outputs": [
    {
     "name": "stdout",
     "output_type": "stream",
     "text": [
      "input email/username to check:········\n",
      "status code: 200\n",
      "['OnlinerSpambot']\n"
     ]
    }
   ],
   "source": [
    "# Worth noting that this won't work if the run via a VPN (i.e. from my server)\n",
    "\n",
    "pwd = getpass.getpass(\"input email/username to check:\")\n",
    "headers = {\"api-version\":\"2\", \"user-agent\":\"Timbos-api-project\"}    \n",
    "url = \"https://haveibeenpwned.com/api/breachedaccount/\" + pwd + \"?truncateResponse=true\"\n",
    "response = requests.get(url, headers = headers)\n",
    "print(\"status code:\", response.status_code)\n",
    "if response.status_code == 200:\n",
    "    data = response.json()\n",
    "    sites = []\n",
    "    for i in data:\n",
    "        sites.append(i['Name'])\n",
    "    print(sites)\n",
    "elif response.status_code== 403:\n",
    "    print(\"403! what did you do?\")\n",
    "else:\n",
    "    print(\"Lucky you, nothing found!\")"
   ]
  },
  {
   "cell_type": "markdown",
   "metadata": {},
   "source": [
    "### What3Words"
   ]
  },
  {
   "cell_type": "markdown",
   "metadata": {},
   "source": [
    "Heard about an interesting idea for geolocation called what3words, they have an API..."
   ]
  },
  {
   "cell_type": "code",
   "execution_count": 54,
   "metadata": {},
   "outputs": [
    {
     "name": "stdout",
     "output_type": "stream",
     "text": [
      "Lat:········\n",
      "Long:········\n"
     ]
    },
    {
     "data": {
      "text/plain": [
       "200"
      ]
     },
     "execution_count": 54,
     "metadata": {},
     "output_type": "execute_result"
    }
   ],
   "source": [
    "key = data['W3W_api']\n",
    "lat = getpass.getpass(\"Lat:\")\n",
    "long = getpass.getpass(\"Long:\")\n",
    "#lat = \"-37.810000\"\n",
    "#long = \"144.960000\"\n",
    "url = \"https://api.what3words.com/v3/convert-to-3wa?coordinates=\" + lat + \"%2c\" + long + \"&key=\" + key\n",
    "response = requests.get(url)\n",
    "response.status_code"
   ]
  },
  {
   "cell_type": "code",
   "execution_count": 55,
   "metadata": {},
   "outputs": [
    {
     "name": "stdout",
     "output_type": "stream",
     "text": [
      "wants.bowls.beam\n"
     ]
    }
   ],
   "source": [
    "if response.status_code != 200:\n",
    "    code = response.json()['error']['code']\n",
    "    message = response.json()['error']['message']\n",
    "    print(code)\n",
    "    print(message)\n",
    "else:\n",
    "    words = response.json()['words']\n",
    "    print(words)"
   ]
  },
  {
   "cell_type": "markdown",
   "metadata": {},
   "source": [
    "# Shodan.io  \n",
    "Here we go..."
   ]
  },
  {
   "cell_type": "code",
   "execution_count": 34,
   "metadata": {},
   "outputs": [
    {
     "data": {
      "text/plain": [
       "200"
      ]
     },
     "execution_count": 34,
     "metadata": {},
     "output_type": "execute_result"
    }
   ],
   "source": [
    "api_key = data['shodan_api_key']\n",
    "#ip = getpass.getpass(\"Input an IP to check:\")\n",
    "ip = data['ip']\n",
    "\n",
    "url = \"https://api.shodan.io/shodan/host/{}?key={}\".format(ip, api_key)\n",
    "response = requests.get(url)\n",
    "response.status_code"
   ]
  },
  {
   "cell_type": "code",
   "execution_count": 40,
   "metadata": {},
   "outputs": [
    {
     "data": {
      "text/plain": [
       "dict"
      ]
     },
     "execution_count": 40,
     "metadata": {},
     "output_type": "execute_result"
    }
   ],
   "source": [
    "data = response.json()\n",
    "data"
   ]
  }
 ],
 "metadata": {
  "kernelspec": {
   "display_name": "Python 3",
   "language": "python",
   "name": "python3"
  },
  "language_info": {
   "codemirror_mode": {
    "name": "ipython",
    "version": 3
   },
   "file_extension": ".py",
   "mimetype": "text/x-python",
   "name": "python",
   "nbconvert_exporter": "python",
   "pygments_lexer": "ipython3",
   "version": "3.7.2"
  }
 },
 "nbformat": 4,
 "nbformat_minor": 2
}
