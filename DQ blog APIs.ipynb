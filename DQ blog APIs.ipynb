{
 "cells": [
  {
   "cell_type": "markdown",
   "metadata": {},
   "source": [
    "Python API Tutorial - An Introduction to Using APIs\n",
    "\n",
    "https://www.dataquest.io/blog/python-api-tutorial/"
   ]
  },
  {
   "cell_type": "code",
   "execution_count": 11,
   "metadata": {},
   "outputs": [],
   "source": [
    "import requests\n",
    "import json"
   ]
  },
  {
   "cell_type": "markdown",
   "metadata": {},
   "source": [
    "### Get current position of ISS"
   ]
  },
  {
   "cell_type": "code",
   "execution_count": 7,
   "metadata": {},
   "outputs": [
    {
     "data": {
      "text/plain": [
       "200"
      ]
     },
     "execution_count": 7,
     "metadata": {},
     "output_type": "execute_result"
    }
   ],
   "source": [
    "# Make a request to get the current (within 5 seconds) position of the ISS from the open notify API\n",
    "response = requests.get(\"http://api.open-notify.org/iss-now.json\")\n",
    "response.status_code"
   ]
  },
  {
   "cell_type": "code",
   "execution_count": 8,
   "metadata": {},
   "outputs": [
    {
     "data": {
      "text/plain": [
       "b'{\"message\": \"success\", \"timestamp\": 1542880019, \"iss_position\": {\"latitude\": \"1.2881\", \"longitude\": \"103.1973\"}}'"
      ]
     },
     "execution_count": 8,
     "metadata": {},
     "output_type": "execute_result"
    }
   ],
   "source": [
    "response.content"
   ]
  },
  {
   "cell_type": "markdown",
   "metadata": {},
   "source": [
    "### Get details of next pass"
   ]
  },
  {
   "cell_type": "code",
   "execution_count": 9,
   "metadata": {},
   "outputs": [
    {
     "data": {
      "text/plain": [
       "200"
      ]
     },
     "execution_count": 9,
     "metadata": {},
     "output_type": "execute_result"
    }
   ],
   "source": [
    "# Params to pass to the API.\n",
    "# This is the Lat/Long of Melbourne, Australia\n",
    "parameters = {\"lat\": 37.81, \"lon\": 144.96}\n",
    "\n",
    "# Make a get request with parameters\n",
    "response = requests.get(\"http://api.open-notify.org/iss-pass.json\", params=parameters)\n",
    "response.status_code"
   ]
  },
  {
   "cell_type": "code",
   "execution_count": 10,
   "metadata": {},
   "outputs": [
    {
     "data": {
      "text/plain": [
       "b'{\\n  \"message\": \"success\", \\n  \"request\": {\\n    \"altitude\": 100, \\n    \"datetime\": 1542879971, \\n    \"latitude\": 37.81, \\n    \"longitude\": 144.96, \\n    \"passes\": 5\\n  }, \\n  \"response\": [\\n    {\\n      \"duration\": 628, \\n      \"risetime\": 1542880554\\n    }, \\n    {\\n      \"duration\": 521, \\n      \"risetime\": 1542886439\\n    }, \\n    {\\n      \"duration\": 474, \\n      \"risetime\": 1542892330\\n    }, \\n    {\\n      \"duration\": 580, \\n      \"risetime\": 1542898133\\n    }, \\n    {\\n      \"duration\": 637, \\n      \"risetime\": 1542903911\\n    }\\n  ]\\n}\\n'"
      ]
     },
     "execution_count": 10,
     "metadata": {},
     "output_type": "execute_result"
    }
   ],
   "source": [
    "response.content"
   ]
  },
  {
   "cell_type": "code",
   "execution_count": 17,
   "metadata": {},
   "outputs": [
    {
     "data": {
      "text/plain": [
       "{'Server': 'nginx/1.10.3', 'Date': 'Thu, 22 Nov 2018 09:47:06 GMT', 'Content-Type': 'application/json', 'Content-Length': '520', 'Connection': 'keep-alive', 'Via': '1.1 vegur'}"
      ]
     },
     "execution_count": 17,
     "metadata": {},
     "output_type": "execute_result"
    }
   ],
   "source": [
    "response.headers"
   ]
  },
  {
   "cell_type": "code",
   "execution_count": 14,
   "metadata": {},
   "outputs": [
    {
     "data": {
      "text/plain": [
       "{'message': 'success',\n",
       " 'request': {'altitude': 100,\n",
       "  'datetime': 1542879971,\n",
       "  'latitude': 37.81,\n",
       "  'longitude': 144.96,\n",
       "  'passes': 5},\n",
       " 'response': [{'duration': 628, 'risetime': 1542880554},\n",
       "  {'duration': 521, 'risetime': 1542886439},\n",
       "  {'duration': 474, 'risetime': 1542892330},\n",
       "  {'duration': 580, 'risetime': 1542898133},\n",
       "  {'duration': 637, 'risetime': 1542903911}]}"
      ]
     },
     "execution_count": 14,
     "metadata": {},
     "output_type": "execute_result"
    }
   ],
   "source": [
    "data = response.json()\n",
    "data"
   ]
  },
  {
   "cell_type": "markdown",
   "metadata": {},
   "source": [
    "### Get number of people in space"
   ]
  },
  {
   "cell_type": "code",
   "execution_count": 18,
   "metadata": {},
   "outputs": [
    {
     "data": {
      "text/plain": [
       "200"
      ]
     },
     "execution_count": 18,
     "metadata": {},
     "output_type": "execute_result"
    }
   ],
   "source": [
    "response = requests.get(\"http://api.open-notify.org/astros.json\")\n",
    "response.status_code"
   ]
  },
  {
   "cell_type": "code",
   "execution_count": 22,
   "metadata": {},
   "outputs": [
    {
     "data": {
      "text/plain": [
       "3"
      ]
     },
     "execution_count": 22,
     "metadata": {},
     "output_type": "execute_result"
    }
   ],
   "source": [
    "data = response.json()\n",
    "data[\"number\"]"
   ]
  },
  {
   "cell_type": "markdown",
   "metadata": {},
   "source": [
    "There will be more to come as this topic forms appears in a later part of the DataQuest Data Scientist course."
   ]
  },
  {
   "cell_type": "markdown",
   "metadata": {},
   "source": [
    "### Reddit, what could go wrong"
   ]
  },
  {
   "cell_type": "markdown",
   "metadata": {},
   "source": [
    "In my defence at the end of the DQ article they do tell the reader to have a look at reddit, so..."
   ]
  },
  {
   "cell_type": "code",
   "execution_count": 28,
   "metadata": {},
   "outputs": [
    {
     "data": {
      "text/plain": [
       "200"
      ]
     },
     "execution_count": 28,
     "metadata": {},
     "output_type": "execute_result"
    }
   ],
   "source": [
    "# My initial attempts would return a 429 code, thanks to u/,,xx_th for the quick fix\n",
    "response = requests.get(\"http://reddit.com/api/trending_subreddits.json\", headers = {'User-agent': 'your bot 0.1'})\n",
    "response.status_code"
   ]
  },
  {
   "cell_type": "code",
   "execution_count": 29,
   "metadata": {},
   "outputs": [
    {
     "data": {
      "text/plain": [
       "{'Content-Type': 'application/json; charset=UTF-8', 'x-ua-compatible': 'IE=edge', 'x-frame-options': 'SAMEORIGIN', 'x-content-type-options': 'nosniff', 'x-xss-protection': '1; mode=block', 'set-cookie': 'loid=00000000002nakoxi7.2.1542881930859.Z0FBQUFBQmI5b0tLcTNObXo0dm8yTU1CcENQcS1PQ1hlSG05aHMyQ0JpWnE5UFR2WldTd0FlMnpoQU9QQUVrazZYUFB5a3JaSmpXVXZjYjhyZkJ4Uk1UYVByTFNjNEZpWndSSHc3LUYtZjk3S2JCYVFTNlljdE1GbjdLbTAyM001MzV1bTlERl9uUS0; Domain=reddit.com; Max-Age=63071999; Path=/; expires=Sat, 21-Nov-2020 10:18:50 GMT; secure, session_tracker=2pF3vmk6cBLGBnWsdT.0.1542881930860.Z0FBQUFBQmI5b0tLUi1adm44eVl1bkNTNDV5VFVGdGFMdmJjNndrcTNRbzZadVAtZGlDVDNYUmczMGFlczlCTnNsVzVobXprVjRsdC1NZG5paW10OGdjSmlwVDJHMEFFb1dRaWRzdTNuYWp5RGhHWmxneVd2TkJHdUpfVHQyaFFWcExPbWVSem9jYmc; Domain=reddit.com; Max-Age=7199; Path=/; expires=Thu, 22-Nov-2018 12:18:50 GMT; secure, edgebucket=vPfffv6AhFjzlNpMUj; Domain=reddit.com; Max-Age=63071999; Path=/;  secure', 'access-control-allow-origin': '*', 'access-control-expose-headers': 'X-Moose', 'cache-control': 'max-age=0, must-revalidate', 'X-Moose': 'majestic', 'Strict-Transport-Security': 'max-age=15552000; includeSubDomains; preload', 'Content-Length': '228', 'Accept-Ranges': 'bytes', 'Date': 'Thu, 22 Nov 2018 10:18:50 GMT', 'Via': '1.1 varnish', 'Connection': 'keep-alive', 'X-Served-By': 'cache-hkg17922-HKG', 'X-Cache': 'MISS', 'X-Cache-Hits': '0', 'X-Timer': 'S1542881931.737364,VS0,VE249', 'Server': 'snooserv'}"
      ]
     },
     "execution_count": 29,
     "metadata": {},
     "output_type": "execute_result"
    }
   ],
   "source": [
    "response.headers"
   ]
  },
  {
   "cell_type": "code",
   "execution_count": 30,
   "metadata": {},
   "outputs": [
    {
     "data": {
      "text/plain": [
       "{'subreddit_names': ['birdswitharms',\n",
       "  'CuddlyKitties',\n",
       "  'TouchThaFishy',\n",
       "  'redpandas',\n",
       "  'CatsStandingUp'],\n",
       " 'comment_count': 3,\n",
       " 'comment_url': '/r/trendingsubreddits/comments/9zbcmo/trending_subreddits_for_20181122_rbirdswitharms/'}"
      ]
     },
     "execution_count": 30,
     "metadata": {},
     "output_type": "execute_result"
    }
   ],
   "source": [
    "response.json()"
   ]
  },
  {
   "cell_type": "markdown",
   "metadata": {},
   "source": [
    "Further exploration is limited by my lack of knowledge of oauth and modhashes, this is a problem for another day"
   ]
  }
 ],
 "metadata": {
  "kernelspec": {
   "display_name": "Python 3",
   "language": "python",
   "name": "python3"
  },
  "language_info": {
   "codemirror_mode": {
    "name": "ipython",
    "version": 3
   },
   "file_extension": ".py",
   "mimetype": "text/x-python",
   "name": "python",
   "nbconvert_exporter": "python",
   "pygments_lexer": "ipython3",
   "version": "3.6.5"
  }
 },
 "nbformat": 4,
 "nbformat_minor": 2
}
